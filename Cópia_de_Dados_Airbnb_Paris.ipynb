{
  "nbformat": 4,
  "nbformat_minor": 0,
  "metadata": {
    "colab": {
      "name": "Cópia de Dados Airbnb Paris",
      "provenance": [],
      "authorship_tag": "ABX9TyPgvcHh6ukigM8xE8fLgD0Q",
      "include_colab_link": true
    },
    "kernelspec": {
      "name": "python3",
      "display_name": "Python 3"
    }
  },
  "cells": [
    {
      "cell_type": "markdown",
      "metadata": {
        "id": "view-in-github",
        "colab_type": "text"
      },
      "source": [
        "<a href=\"https://colab.research.google.com/github/TamiraTeles/ELO/blob/master/C%C3%B3pia_de_Dados_Airbnb_Paris.ipynb\" target=\"_parent\"><img src=\"https://colab.research.google.com/assets/colab-badge.svg\" alt=\"Open In Colab\"/></a>"
      ]
    },
    {
      "cell_type": "code",
      "metadata": {
        "id": "eg37o73uVJ1y",
        "colab_type": "code",
        "colab": {}
      },
      "source": [
        ""
      ],
      "execution_count": null,
      "outputs": []
    },
    {
      "cell_type": "markdown",
      "metadata": {
        "id": "MGsRVUyxWiZX",
        "colab_type": "text"
      },
      "source": [
        "\n",
        "<img alt=\"Colaboratory logo\" width=\"15%\" src=\"https://raw.githubusercontent.com/carlosfab/escola-data-science/master/img/novo_logo_bg_claro.png\">\n",
        "\n",
        "#### **Data Science na Prática 2.0**\n",
        "*by [sigmoidal.ai](https://sigmoidal.ai)*\n",
        "\n",
        "## Análise dos dados do Airbnb -Tókio\n",
        "\n",
        "O [Airbnb](htpps://www.airbnb.com.br/) é uma comunidade de viagens que conecta pessoas que possuem imóveis para locação temporária, os **anfitriões**, com pessoas interessadas na hospedagem, os **viajantes**. A plataforma facilita essa forma alternativa de hospedagem possibilitando conexão e prestando suporte para ambas as partes.\n",
        "Por meio do portal [inside Airbnb](http://insideairbnb.com/get-the-data.html), a Airbnb disponibiliza dados das principais cidades do mundo, possibilitando baixar uma grande quantidade de dados e desenvolver projetos de *Data Science*\n",
        "\n",
        "<center><img alt=\"Analisando Airbnb\" width=\"10%\" src=\"https://www.area360.com.au/wp-content/uploads/2017/09/airbnb-logo.jpg\"></center>\n",
        "\n",
        "**Neste notebook iremos analisar dados de hospedagem na cidade de Tókio e ver quais insights podem ser extraídos a partir de dados brutos.**\n",
        "\n"
      ]
    },
    {
      "cell_type": "markdown",
      "metadata": {
        "id": "b3464x5hG0-A",
        "colab_type": "text"
      },
      "source": [
        "**Obtenção de Dados**\n",
        "\n",
        "Todos os dados foram obtidos através do portal [inside Airbnb](http://insideairbnb.com/get-the-data.html)\n"
      ]
    },
    {
      "cell_type": "code",
      "metadata": {
        "id": "6I7rOYj6IvSU",
        "colab_type": "code",
        "colab": {
          "base_uri": "https://localhost:8080/",
          "height": 72
        },
        "outputId": "5202130e-3b5f-4ced-8ae2-f1b1fddf2aef"
      },
      "source": [
        "import pandas as pd\n",
        "import matplotlib.pyplot as ptl\n",
        "import seaborn as sns\n",
        "\n",
        "%matplotlib inline"
      ],
      "execution_count": 1,
      "outputs": [
        {
          "output_type": "stream",
          "text": [
            "/usr/local/lib/python3.6/dist-packages/statsmodels/tools/_testing.py:19: FutureWarning: pandas.util.testing is deprecated. Use the functions in the public API at pandas.testing instead.\n",
            "  import pandas.util.testing as tm\n"
          ],
          "name": "stderr"
        }
      ]
    },
    {
      "cell_type": "code",
      "metadata": {
        "id": "xaM-08GiLF7u",
        "colab_type": "code",
        "colab": {}
      },
      "source": [
        "df = pd.read_csv(\"http://data.insideairbnb.com/france/ile-de-france/paris/2020-06-11/visualisations/listings.csv\")"
      ],
      "execution_count": 2,
      "outputs": []
    },
    {
      "cell_type": "markdown",
      "metadata": {
        "id": "MTyHrUD8Mo-j",
        "colab_type": "text"
      },
      "source": [
        "##Análise dos Dados"
      ]
    },
    {
      "cell_type": "markdown",
      "metadata": {
        "id": "UDjw4P0yNSpQ",
        "colab_type": "text"
      },
      "source": [
        "**discionário de variáveis**\n",
        "\n",
        "\n",
        "\n",
        "\n",
        "*   Id = numero de id referente ao imóvel\n",
        "*   Name = nome da propriedade anunciada\n",
        "\n",
        "*   host_id = numero referente ao propietário (anfitrião)\n",
        "*   host_name = Nome do anfitrião\n",
        "\n",
        "\n",
        "*   neighbourhood_group = nome do bairro\n",
        "*   room_type = tipo de acomodação\n",
        "\n",
        "*   price = preço para alugar o imóvel\n",
        "*   minimum_nights = quantidade minima de noites\n",
        "\n",
        "*   number_of_reviews = número de reviews que a propriedade possue\n",
        "*   last_review = ultimo review\n",
        "\n",
        "*   review_per_month = número de review por mês\n",
        "*   calculated_host_listings_count = número de propriedades do mesmo anfitrião\n",
        "\n",
        "*   availability_365 = número de dias disponíves nos 365 dias do ano\n",
        "*   Item da lista\n",
        "\n",
        "\n",
        "\n",
        "\n",
        "\n",
        "\n",
        "\n",
        "\n",
        "\n",
        "\n",
        "\n",
        "\n",
        "\n",
        "\n",
        "\n",
        "\n",
        "\n",
        "\n",
        "\n"
      ]
    },
    {
      "cell_type": "code",
      "metadata": {
        "id": "9QownDsoNmFs",
        "colab_type": "code",
        "colab": {
          "base_uri": "https://localhost:8080/",
          "height": 467
        },
        "outputId": "519c3f15-5ef5-4f9b-93fd-8f52b5489686"
      },
      "source": [
        "df.head()"
      ],
      "execution_count": 3,
      "outputs": [
        {
          "output_type": "execute_result",
          "data": {
            "text/html": [
              "<div>\n",
              "<style scoped>\n",
              "    .dataframe tbody tr th:only-of-type {\n",
              "        vertical-align: middle;\n",
              "    }\n",
              "\n",
              "    .dataframe tbody tr th {\n",
              "        vertical-align: top;\n",
              "    }\n",
              "\n",
              "    .dataframe thead th {\n",
              "        text-align: right;\n",
              "    }\n",
              "</style>\n",
              "<table border=\"1\" class=\"dataframe\">\n",
              "  <thead>\n",
              "    <tr style=\"text-align: right;\">\n",
              "      <th></th>\n",
              "      <th>id</th>\n",
              "      <th>name</th>\n",
              "      <th>host_id</th>\n",
              "      <th>host_name</th>\n",
              "      <th>neighbourhood_group</th>\n",
              "      <th>neighbourhood</th>\n",
              "      <th>latitude</th>\n",
              "      <th>longitude</th>\n",
              "      <th>room_type</th>\n",
              "      <th>price</th>\n",
              "      <th>minimum_nights</th>\n",
              "      <th>number_of_reviews</th>\n",
              "      <th>last_review</th>\n",
              "      <th>reviews_per_month</th>\n",
              "      <th>calculated_host_listings_count</th>\n",
              "      <th>availability_365</th>\n",
              "    </tr>\n",
              "  </thead>\n",
              "  <tbody>\n",
              "    <tr>\n",
              "      <th>0</th>\n",
              "      <td>2577</td>\n",
              "      <td>Loft for 4 by Canal Saint Martin</td>\n",
              "      <td>2827</td>\n",
              "      <td>Karine</td>\n",
              "      <td>NaN</td>\n",
              "      <td>Entrepôt</td>\n",
              "      <td>48.86993</td>\n",
              "      <td>2.36251</td>\n",
              "      <td>Entire home/apt</td>\n",
              "      <td>125</td>\n",
              "      <td>3</td>\n",
              "      <td>1</td>\n",
              "      <td>2019-01-02</td>\n",
              "      <td>0.06</td>\n",
              "      <td>1</td>\n",
              "      <td>365</td>\n",
              "    </tr>\n",
              "    <tr>\n",
              "      <th>1</th>\n",
              "      <td>3109</td>\n",
              "      <td>zen and calm</td>\n",
              "      <td>3631</td>\n",
              "      <td>Anne</td>\n",
              "      <td>NaN</td>\n",
              "      <td>Observatoire</td>\n",
              "      <td>48.83349</td>\n",
              "      <td>2.31852</td>\n",
              "      <td>Entire home/apt</td>\n",
              "      <td>60</td>\n",
              "      <td>2</td>\n",
              "      <td>9</td>\n",
              "      <td>2019-10-24</td>\n",
              "      <td>0.21</td>\n",
              "      <td>1</td>\n",
              "      <td>365</td>\n",
              "    </tr>\n",
              "    <tr>\n",
              "      <th>2</th>\n",
              "      <td>4890</td>\n",
              "      <td>Quiet Historic &amp; Cute  +Free Cruise</td>\n",
              "      <td>6792</td>\n",
              "      <td>Jennifer Of Cobblestone</td>\n",
              "      <td>NaN</td>\n",
              "      <td>Temple</td>\n",
              "      <td>48.86409</td>\n",
              "      <td>2.35651</td>\n",
              "      <td>Entire home/apt</td>\n",
              "      <td>100</td>\n",
              "      <td>4</td>\n",
              "      <td>22</td>\n",
              "      <td>2017-04-30</td>\n",
              "      <td>0.21</td>\n",
              "      <td>1</td>\n",
              "      <td>55</td>\n",
              "    </tr>\n",
              "    <tr>\n",
              "      <th>3</th>\n",
              "      <td>5396</td>\n",
              "      <td>Explore the heart of old Paris</td>\n",
              "      <td>7903</td>\n",
              "      <td>Borzou</td>\n",
              "      <td>NaN</td>\n",
              "      <td>Hôtel-de-Ville</td>\n",
              "      <td>48.85100</td>\n",
              "      <td>2.35869</td>\n",
              "      <td>Entire home/apt</td>\n",
              "      <td>115</td>\n",
              "      <td>1</td>\n",
              "      <td>221</td>\n",
              "      <td>2020-05-26</td>\n",
              "      <td>1.66</td>\n",
              "      <td>1</td>\n",
              "      <td>90</td>\n",
              "    </tr>\n",
              "    <tr>\n",
              "      <th>4</th>\n",
              "      <td>7397</td>\n",
              "      <td>MARAIS - 2ROOMS APT - 2/4 PEOPLE</td>\n",
              "      <td>2626</td>\n",
              "      <td>Franck</td>\n",
              "      <td>NaN</td>\n",
              "      <td>Hôtel-de-Ville</td>\n",
              "      <td>48.85758</td>\n",
              "      <td>2.35275</td>\n",
              "      <td>Entire home/apt</td>\n",
              "      <td>119</td>\n",
              "      <td>10</td>\n",
              "      <td>268</td>\n",
              "      <td>2020-02-26</td>\n",
              "      <td>2.39</td>\n",
              "      <td>2</td>\n",
              "      <td>288</td>\n",
              "    </tr>\n",
              "  </tbody>\n",
              "</table>\n",
              "</div>"
            ],
            "text/plain": [
              "     id  ... availability_365\n",
              "0  2577  ...              365\n",
              "1  3109  ...              365\n",
              "2  4890  ...               55\n",
              "3  5396  ...               90\n",
              "4  7397  ...              288\n",
              "\n",
              "[5 rows x 16 columns]"
            ]
          },
          "metadata": {
            "tags": []
          },
          "execution_count": 3
        }
      ]
    },
    {
      "cell_type": "markdown",
      "metadata": {
        "id": "wkzyNZxmU-qR",
        "colab_type": "text"
      },
      "source": [
        "### Q1- Quantos atributos (variáveis) e quantas entradas nosso conjunto de dados possui? Quais os tipos de variáveis?**"
      ]
    },
    {
      "cell_type": "code",
      "metadata": {
        "id": "iNcy18TlV46h",
        "colab_type": "code",
        "colab": {
          "base_uri": "https://localhost:8080/",
          "height": 372
        },
        "outputId": "f44d96a0-50fe-48ff-cc02-c33e549dbbad"
      },
      "source": [
        "print(\"entradas:\\t{}\".format(df.shape[0]))\n",
        "print(\"variaveis:\\t{}\\n\".format(df.shape[1]))\n",
        "\n",
        "display(df.dtypes)"
      ],
      "execution_count": 4,
      "outputs": [
        {
          "output_type": "stream",
          "text": [
            "entradas:\t67235\n",
            "variaveis:\t16\n",
            "\n"
          ],
          "name": "stdout"
        },
        {
          "output_type": "display_data",
          "data": {
            "text/plain": [
              "id                                  int64\n",
              "name                               object\n",
              "host_id                             int64\n",
              "host_name                          object\n",
              "neighbourhood_group               float64\n",
              "neighbourhood                      object\n",
              "latitude                          float64\n",
              "longitude                         float64\n",
              "room_type                          object\n",
              "price                               int64\n",
              "minimum_nights                      int64\n",
              "number_of_reviews                   int64\n",
              "last_review                        object\n",
              "reviews_per_month                 float64\n",
              "calculated_host_listings_count      int64\n",
              "availability_365                    int64\n",
              "dtype: object"
            ]
          },
          "metadata": {
            "tags": []
          }
        }
      ]
    },
    {
      "cell_type": "markdown",
      "metadata": {
        "id": "AJLzjxoyNF0o",
        "colab_type": "text"
      },
      "source": [
        "### **Q2- Qual a porcentagem de Valores ausentes no *dataset*?**"
      ]
    },
    {
      "cell_type": "code",
      "metadata": {
        "id": "E96CPxB-8I21",
        "colab_type": "code",
        "colab": {
          "base_uri": "https://localhost:8080/",
          "height": 318
        },
        "outputId": "9145699c-6007-4b03-cd1a-a83b3c5513d3"
      },
      "source": [
        "#ordenar em ordem decrescente as variáveias por seus valores ausentes\n",
        "\n",
        "(df.isnull().sum() / df.shape[0]).sort_values(ascending=False)"
      ],
      "execution_count": 5,
      "outputs": [
        {
          "output_type": "execute_result",
          "data": {
            "text/plain": [
              "neighbourhood_group               1.000000\n",
              "reviews_per_month                 0.216509\n",
              "last_review                       0.216509\n",
              "name                              0.000982\n",
              "host_name                         0.000223\n",
              "availability_365                  0.000000\n",
              "calculated_host_listings_count    0.000000\n",
              "number_of_reviews                 0.000000\n",
              "minimum_nights                    0.000000\n",
              "price                             0.000000\n",
              "room_type                         0.000000\n",
              "longitude                         0.000000\n",
              "latitude                          0.000000\n",
              "neighbourhood                     0.000000\n",
              "host_id                           0.000000\n",
              "id                                0.000000\n",
              "dtype: float64"
            ]
          },
          "metadata": {
            "tags": []
          },
          "execution_count": 5
        }
      ]
    },
    {
      "cell_type": "markdown",
      "metadata": {
        "id": "wtDuWZlmALSI",
        "colab_type": "text"
      },
      "source": [
        "### **Q3. Qual o tipo de distribuição das variáveis?**"
      ]
    },
    {
      "cell_type": "code",
      "metadata": {
        "id": "m-mzheRXAW12",
        "colab_type": "code",
        "colab": {
          "base_uri": "https://localhost:8080/",
          "height": 606
        },
        "outputId": "43373eda-ad03-419e-dcc0-81536f8461c8"
      },
      "source": [
        "#plotar o histograma das variáveis numéricas\n",
        "df.hist(bins=15, figsize=(15,10));"
      ],
      "execution_count": 6,
      "outputs": [
        {
          "output_type": "display_data",
          "data": {
            "image/png": "[encoded data removed]",
            "text/plain": [
              "<Figure size 1080x720 with 12 Axes>"
            ]
          },
          "metadata": {
            "tags": [],
            "needs_background": "light"
          }
        }
      ]
    },
    {
      "cell_type": "markdown",
      "metadata": {
        "id": "MPD40o0OC5Rh",
        "colab_type": "text"
      },
      "source": [
        "###**Q4.Qual a média do preço de aluguel?**\n",
        "\n",
        "É possivel identificar a presença de outliers nas variáveis: price, minimum_nights calculates_host_listings_counts"
      ]
    },
    {
      "cell_type": "code",
      "metadata": {
        "id": "lI_MUmzpFiWm",
        "colab_type": "code",
        "colab": {
          "base_uri": "https://localhost:8080/",
          "height": 287
        },
        "outputId": "d24ee994-b76b-41b5-fb91-ed58476cd87a"
      },
      "source": [
        "df[['price', 'minimum_nights', 'number_of_reviews', 'reviews_per_month', 'calculated_host_listings_count', 'availability_365']].describe()"
      ],
      "execution_count": 7,
      "outputs": [
        {
          "output_type": "execute_result",
          "data": {
            "text/html": [
              "<div>\n",
              "<style scoped>\n",
              "    .dataframe tbody tr th:only-of-type {\n",
              "        vertical-align: middle;\n",
              "    }\n",
              "\n",
              "    .dataframe tbody tr th {\n",
              "        vertical-align: top;\n",
              "    }\n",
              "\n",
              "    .dataframe thead th {\n",
              "        text-align: right;\n",
              "    }\n",
              "</style>\n",
              "<table border=\"1\" class=\"dataframe\">\n",
              "  <thead>\n",
              "    <tr style=\"text-align: right;\">\n",
              "      <th></th>\n",
              "      <th>price</th>\n",
              "      <th>minimum_nights</th>\n",
              "      <th>number_of_reviews</th>\n",
              "      <th>reviews_per_month</th>\n",
              "      <th>calculated_host_listings_count</th>\n",
              "      <th>availability_365</th>\n",
              "    </tr>\n",
              "  </thead>\n",
              "  <tbody>\n",
              "    <tr>\n",
              "      <th>count</th>\n",
              "      <td>67235.000000</td>\n",
              "      <td>67235.000000</td>\n",
              "      <td>67235.000000</td>\n",
              "      <td>52678.000000</td>\n",
              "      <td>67235.000000</td>\n",
              "      <td>67235.000000</td>\n",
              "    </tr>\n",
              "    <tr>\n",
              "      <th>mean</th>\n",
              "      <td>133.334603</td>\n",
              "      <td>5.542932</td>\n",
              "      <td>20.010441</td>\n",
              "      <td>0.843189</td>\n",
              "      <td>8.429018</td>\n",
              "      <td>99.006455</td>\n",
              "    </tr>\n",
              "    <tr>\n",
              "      <th>std</th>\n",
              "      <td>366.435219</td>\n",
              "      <td>43.642359</td>\n",
              "      <td>41.660848</td>\n",
              "      <td>1.101604</td>\n",
              "      <td>34.717336</td>\n",
              "      <td>133.740168</td>\n",
              "    </tr>\n",
              "    <tr>\n",
              "      <th>min</th>\n",
              "      <td>0.000000</td>\n",
              "      <td>1.000000</td>\n",
              "      <td>0.000000</td>\n",
              "      <td>0.010000</td>\n",
              "      <td>1.000000</td>\n",
              "      <td>0.000000</td>\n",
              "    </tr>\n",
              "    <tr>\n",
              "      <th>25%</th>\n",
              "      <td>60.000000</td>\n",
              "      <td>1.000000</td>\n",
              "      <td>1.000000</td>\n",
              "      <td>0.180000</td>\n",
              "      <td>1.000000</td>\n",
              "      <td>0.000000</td>\n",
              "    </tr>\n",
              "    <tr>\n",
              "      <th>50%</th>\n",
              "      <td>85.000000</td>\n",
              "      <td>2.000000</td>\n",
              "      <td>6.000000</td>\n",
              "      <td>0.470000</td>\n",
              "      <td>1.000000</td>\n",
              "      <td>2.000000</td>\n",
              "    </tr>\n",
              "    <tr>\n",
              "      <th>75%</th>\n",
              "      <td>125.000000</td>\n",
              "      <td>4.000000</td>\n",
              "      <td>20.000000</td>\n",
              "      <td>1.080000</td>\n",
              "      <td>1.000000</td>\n",
              "      <td>179.000000</td>\n",
              "    </tr>\n",
              "    <tr>\n",
              "      <th>max</th>\n",
              "      <td>12039.000000</td>\n",
              "      <td>9999.000000</td>\n",
              "      <td>867.000000</td>\n",
              "      <td>46.530000</td>\n",
              "      <td>296.000000</td>\n",
              "      <td>365.000000</td>\n",
              "    </tr>\n",
              "  </tbody>\n",
              "</table>\n",
              "</div>"
            ],
            "text/plain": [
              "              price  ...  availability_365\n",
              "count  67235.000000  ...      67235.000000\n",
              "mean     133.334603  ...         99.006455\n",
              "std      366.435219  ...        133.740168\n",
              "min        0.000000  ...          0.000000\n",
              "25%       60.000000  ...          0.000000\n",
              "50%       85.000000  ...          2.000000\n",
              "75%      125.000000  ...        179.000000\n",
              "max    12039.000000  ...        365.000000\n",
              "\n",
              "[8 rows x 6 columns]"
            ]
          },
          "metadata": {
            "tags": []
          },
          "execution_count": 7
        }
      ]
    },
    {
      "cell_type": "code",
      "metadata": {
        "id": "J-aSA9U3r0v2",
        "colab_type": "code",
        "colab": {}
      },
      "source": [
        ""
      ],
      "execution_count": 7,
      "outputs": []
    },
    {
      "cell_type": "markdown",
      "metadata": {
        "id": "_CltlkfIW-4-",
        "colab_type": "text"
      },
      "source": [
        "Pela tabela acima, visualizando a coluna 'price' a média da diária é **133,33** Euros. Se considerarmos, no entanto as distorções causadas pelos valores extremos, ou seja, valores abaixo dos 25% e acima dos 75%, podemos estimar uma diária média mais próxima de **90,00** Euros."
      ]
    },
    {
      "cell_type": "code",
      "metadata": {
        "id": "HGLca74cYndV",
        "colab_type": "code",
        "colab": {}
      },
      "source": [
        "df_clean = df.copy()"
      ],
      "execution_count": 8,
      "outputs": []
    },
    {
      "cell_type": "markdown",
      "metadata": {
        "id": "nRSi3VUHYiSs",
        "colab_type": "text"
      },
      "source": [
        "###**Q5. Qual a correlação existente entre as variáveis?**\n"
      ]
    },
    {
      "cell_type": "code",
      "metadata": {
        "id": "uQYvJLVhV08E",
        "colab_type": "code",
        "colab": {
          "base_uri": "https://localhost:8080/",
          "height": 227
        },
        "outputId": "a72ef7e9-dadf-477d-8efc-0398380e21c3"
      },
      "source": [
        "corr = df_clean[['price','number_of_reviews','reviews_per_month','minimum_nights','calculated_host_listings_count','minimum_nights']].corr()\n",
        "display(corr)"
      ],
      "execution_count": 9,
      "outputs": [
        {
          "output_type": "display_data",
          "data": {
            "text/html": [
              "<div>\n",
              "<style scoped>\n",
              "    .dataframe tbody tr th:only-of-type {\n",
              "        vertical-align: middle;\n",
              "    }\n",
              "\n",
              "    .dataframe tbody tr th {\n",
              "        vertical-align: top;\n",
              "    }\n",
              "\n",
              "    .dataframe thead th {\n",
              "        text-align: right;\n",
              "    }\n",
              "</style>\n",
              "<table border=\"1\" class=\"dataframe\">\n",
              "  <thead>\n",
              "    <tr style=\"text-align: right;\">\n",
              "      <th></th>\n",
              "      <th>price</th>\n",
              "      <th>number_of_reviews</th>\n",
              "      <th>reviews_per_month</th>\n",
              "      <th>minimum_nights</th>\n",
              "      <th>calculated_host_listings_count</th>\n",
              "      <th>minimum_nights</th>\n",
              "    </tr>\n",
              "  </thead>\n",
              "  <tbody>\n",
              "    <tr>\n",
              "      <th>price</th>\n",
              "      <td>1.000000</td>\n",
              "      <td>-0.016103</td>\n",
              "      <td>0.020354</td>\n",
              "      <td>-0.000887</td>\n",
              "      <td>0.062026</td>\n",
              "      <td>-0.000887</td>\n",
              "    </tr>\n",
              "    <tr>\n",
              "      <th>number_of_reviews</th>\n",
              "      <td>-0.016103</td>\n",
              "      <td>1.000000</td>\n",
              "      <td>0.726327</td>\n",
              "      <td>-0.012242</td>\n",
              "      <td>-0.045699</td>\n",
              "      <td>-0.012242</td>\n",
              "    </tr>\n",
              "    <tr>\n",
              "      <th>reviews_per_month</th>\n",
              "      <td>0.020354</td>\n",
              "      <td>0.726327</td>\n",
              "      <td>1.000000</td>\n",
              "      <td>-0.023014</td>\n",
              "      <td>-0.005903</td>\n",
              "      <td>-0.023014</td>\n",
              "    </tr>\n",
              "    <tr>\n",
              "      <th>minimum_nights</th>\n",
              "      <td>-0.000887</td>\n",
              "      <td>-0.012242</td>\n",
              "      <td>-0.023014</td>\n",
              "      <td>1.000000</td>\n",
              "      <td>0.055079</td>\n",
              "      <td>1.000000</td>\n",
              "    </tr>\n",
              "    <tr>\n",
              "      <th>calculated_host_listings_count</th>\n",
              "      <td>0.062026</td>\n",
              "      <td>-0.045699</td>\n",
              "      <td>-0.005903</td>\n",
              "      <td>0.055079</td>\n",
              "      <td>1.000000</td>\n",
              "      <td>0.055079</td>\n",
              "    </tr>\n",
              "    <tr>\n",
              "      <th>minimum_nights</th>\n",
              "      <td>-0.000887</td>\n",
              "      <td>-0.012242</td>\n",
              "      <td>-0.023014</td>\n",
              "      <td>1.000000</td>\n",
              "      <td>0.055079</td>\n",
              "      <td>1.000000</td>\n",
              "    </tr>\n",
              "  </tbody>\n",
              "</table>\n",
              "</div>"
            ],
            "text/plain": [
              "                                   price  ...  minimum_nights\n",
              "price                           1.000000  ...       -0.000887\n",
              "number_of_reviews              -0.016103  ...       -0.012242\n",
              "reviews_per_month               0.020354  ...       -0.023014\n",
              "minimum_nights                 -0.000887  ...        1.000000\n",
              "calculated_host_listings_count  0.062026  ...        0.055079\n",
              "minimum_nights                 -0.000887  ...        1.000000\n",
              "\n",
              "[6 rows x 6 columns]"
            ]
          },
          "metadata": {
            "tags": []
          }
        }
      ]
    },
    {
      "cell_type": "code",
      "metadata": {
        "id": "7B0C3cXgc635",
        "colab_type": "code",
        "colab": {
          "base_uri": "https://localhost:8080/",
          "height": 411
        },
        "outputId": "e12f21f2-226f-4f0a-d780-32b99bc8b143"
      },
      "source": [
        "sns.heatmap(corr, cmap='RdBu', fmt='.2f', square= True, linecolor='white', annot= True);"
      ],
      "execution_count": 10,
      "outputs": [
        {
          "output_type": "display_data",
          "data": {
            "image/png": "[encoded data removed]",
            "text/plain": [
              "<Figure size 432x288 with 2 Axes>"
            ]
          },
          "metadata": {
            "tags": [],
            "needs_background": "light"
          }
        }
      ]
    },
    {
      "cell_type": "markdown",
      "metadata": {
        "id": "K-iMLE2OeIsF",
        "colab_type": "text"
      },
      "source": [
        "###**Q5. Qual o tipo de imovel mais alugado no Airbnb?**"
      ]
    },
    {
      "cell_type": "code",
      "metadata": {
        "id": "nMpiE1w_fXBo",
        "colab_type": "code",
        "colab": {
          "base_uri": "https://localhost:8080/",
          "height": 105
        },
        "outputId": "8727d41a-e0a1-4faf-8119-39b332597421"
      },
      "source": [
        "#mostrar a quantidade de cada tipo de imovel disponível\n",
        "df_clean.room_type.value_counts()"
      ],
      "execution_count": 11,
      "outputs": [
        {
          "output_type": "execute_result",
          "data": {
            "text/plain": [
              "Entire home/apt    58184\n",
              "Private room        7204\n",
              "Hotel room          1413\n",
              "Shared room          434\n",
              "Name: room_type, dtype: int64"
            ]
          },
          "metadata": {
            "tags": []
          },
          "execution_count": 11
        }
      ]
    },
    {
      "cell_type": "code",
      "metadata": {
        "id": "L01GWzBTgUs8",
        "colab_type": "code",
        "colab": {
          "base_uri": "https://localhost:8080/",
          "height": 105
        },
        "outputId": "3f55c0e2-7f8d-41b2-95d0-9dd4c28f4cbb"
      },
      "source": [
        "#mostrar a porcentagem de cada tipo de imovel disponível\n",
        "df_clean.room_type.value_counts()/df_clean.shape[0]"
      ],
      "execution_count": 12,
      "outputs": [
        {
          "output_type": "execute_result",
          "data": {
            "text/plain": [
              "Entire home/apt    0.865383\n",
              "Private room       0.107147\n",
              "Hotel room         0.021016\n",
              "Shared room        0.006455\n",
              "Name: room_type, dtype: float64"
            ]
          },
          "metadata": {
            "tags": []
          },
          "execution_count": 12
        }
      ]
    },
    {
      "cell_type": "markdown",
      "metadata": {
        "id": "Po6oUvmVhNSA",
        "colab_type": "text"
      },
      "source": [
        "###**Q6. Qual a localidade mais cara de Paris?**"
      ]
    },
    {
      "cell_type": "code",
      "metadata": {
        "id": "g2E-wSSciiDT",
        "colab_type": "code",
        "colab": {
          "base_uri": "https://localhost:8080/",
          "height": 230
        },
        "outputId": "ddc961d0-450f-41bd-a325-95d4b203a7d1"
      },
      "source": [
        "df_clean.groupby(['neighbourhood']).price.mean().sort_values(ascending= False)[:10]"
      ],
      "execution_count": 13,
      "outputs": [
        {
          "output_type": "execute_result",
          "data": {
            "text/plain": [
              "neighbourhood\n",
              "Élysée            262.870652\n",
              "Palais-Bourbon    207.554204\n",
              "Louvre            187.764706\n",
              "Passy             187.670346\n",
              "Opéra             181.335835\n",
              "Luxembourg        178.914059\n",
              "Hôtel-de-Ville    176.172904\n",
              "Temple            169.568175\n",
              "Bourse            162.846055\n",
              "Panthéon          146.038428\n",
              "Name: price, dtype: float64"
            ]
          },
          "metadata": {
            "tags": []
          },
          "execution_count": 13
        }
      ]
    },
    {
      "cell_type": "code",
      "metadata": {
        "id": "U4mJcKpyjBCo",
        "colab_type": "code",
        "colab": {
          "base_uri": "https://localhost:8080/",
          "height": 167
        },
        "outputId": "b3c22142-0c42-4561-9fdb-ad5fe599abd4"
      },
      "source": [
        "df_clean.plot(kind=\"scatter\", x='longitude', y='latitude', alpha=0.4, c=df_clean['price'], s=8, cmap=plt.get_cmap('jet'), figsize=(12,8));"
      ],
      "execution_count": 15,
      "outputs": [
        {
          "output_type": "error",
          "ename": "NameError",
          "evalue": "ignored",
          "traceback": [
            "\u001b[0;31m---------------------------------------------------------------------------\u001b[0m",
            "\u001b[0;31mNameError\u001b[0m                                 Traceback (most recent call last)",
            "\u001b[0;32m<ipython-input-15-3bc62357e0b3>\u001b[0m in \u001b[0;36m<module>\u001b[0;34m()\u001b[0m\n\u001b[0;32m----> 1\u001b[0;31m \u001b[0mdf_clean\u001b[0m\u001b[0;34m.\u001b[0m\u001b[0mplot\u001b[0m\u001b[0;34m(\u001b[0m\u001b[0mkind\u001b[0m\u001b[0;34m=\u001b[0m\u001b[0;34m\"scatter\"\u001b[0m\u001b[0;34m,\u001b[0m \u001b[0mx\u001b[0m\u001b[0;34m=\u001b[0m\u001b[0;34m'longitude'\u001b[0m\u001b[0;34m,\u001b[0m \u001b[0my\u001b[0m\u001b[0;34m=\u001b[0m\u001b[0;34m'latitude'\u001b[0m\u001b[0;34m,\u001b[0m \u001b[0malpha\u001b[0m\u001b[0;34m=\u001b[0m\u001b[0;36m0.4\u001b[0m\u001b[0;34m,\u001b[0m \u001b[0mc\u001b[0m\u001b[0;34m=\u001b[0m\u001b[0mdf_clean\u001b[0m\u001b[0;34m[\u001b[0m\u001b[0;34m'price'\u001b[0m\u001b[0;34m]\u001b[0m\u001b[0;34m,\u001b[0m \u001b[0ms\u001b[0m\u001b[0;34m=\u001b[0m\u001b[0;36m8\u001b[0m\u001b[0;34m,\u001b[0m \u001b[0mcmap\u001b[0m\u001b[0;34m=\u001b[0m\u001b[0mplt\u001b[0m\u001b[0;34m.\u001b[0m\u001b[0mget_cmap\u001b[0m\u001b[0;34m(\u001b[0m\u001b[0;34m'jet'\u001b[0m\u001b[0;34m)\u001b[0m\u001b[0;34m,\u001b[0m \u001b[0mfigsize\u001b[0m\u001b[0;34m=\u001b[0m\u001b[0;34m(\u001b[0m\u001b[0;36m12\u001b[0m\u001b[0;34m,\u001b[0m\u001b[0;36m8\u001b[0m\u001b[0;34m)\u001b[0m\u001b[0;34m)\u001b[0m\u001b[0;34m;\u001b[0m\u001b[0;34m\u001b[0m\u001b[0;34m\u001b[0m\u001b[0m\n\u001b[0m",
            "\u001b[0;31mNameError\u001b[0m: name 'plt' is not defined"
          ]
        }
      ]
    },
    {
      "cell_type": "markdown",
      "metadata": {
        "id": "H68rZUIzrKSX",
        "colab_type": "text"
      },
      "source": [
        "###**Q7.Qual é a média do minimo de noites para aluguel?**"
      ]
    },
    {
      "cell_type": "code",
      "metadata": {
        "id": "i1Cj_DOmr35T",
        "colab_type": "code",
        "colab": {}
      },
      "source": [
        "df[['minimum_nights']].describe()"
      ],
      "execution_count": null,
      "outputs": []
    },
    {
      "cell_type": "markdown",
      "metadata": {
        "id": "gdkfB3-SsOo7",
        "colab_type": "text"
      },
      "source": [
        "Eliminando do cálculo a distorção causada pelo máximo de número minimo de pernoites incompatívelo com a realidade, realizo uma média aritimética simples entre os valores correspondente ao número de noites disponibilizadas por até 25% e at´pe 75% dos anfitriões a média estimada é de 2,5 noites. "
      ]
    },
    {
      "cell_type": "markdown",
      "metadata": {
        "id": "Xd4Cwk2KtQJj",
        "colab_type": "text"
      },
      "source": [
        "###**Conclusão**\n",
        "Trata-se de uma análise realizada como exercício de aprendizado sobre a cidade de Paris.\n",
        "Observamos algumas distorções com relação a preço de aluguel, numero minimo de noites, disponibilidade. No entanto é possível através de uma avaliação mais apurada, mesmo que superficial tirar algumas conclusões com relação a média de valores de aluguel por noite, minimo de noites para aluguel entre outros. E com conhecimento mais apurado e aprofundado sobre análise de dados é possível eliminar essas distorções."
      ]
    }
  ]
}